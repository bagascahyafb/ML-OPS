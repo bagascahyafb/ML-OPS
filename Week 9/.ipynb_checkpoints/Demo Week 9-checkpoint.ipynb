{
 "cells": [
  {
   "cell_type": "code",
   "execution_count": 1,
   "id": "27feb6fe-2df7-410a-bd20-d919df150363",
   "metadata": {},
   "outputs": [],
   "source": [
    "from pycaret.classification import *\n",
    "import pandas as pd"
   ]
  },
  {
   "cell_type": "code",
   "execution_count": null,
   "id": "0a407756-2b47-4e52-9890-4eecafe4c8d9",
   "metadata": {},
   "outputs": [],
   "source": [
    "dataset = pd.read_csv(\"\")\n",
    "dataset"
   ]
  },
  {
   "cell_type": "code",
   "execution_count": null,
   "id": "98ce98ea-ba0e-4632-826b-8a0f1467a673",
   "metadata": {},
   "outputs": [],
   "source": [
    "exp = setup()"
   ]
  }
 ],
 "metadata": {
  "kernelspec": {
   "display_name": "Python 3 (ipykernel)",
   "language": "python",
   "name": "python3"
  },
  "language_info": {
   "codemirror_mode": {
    "name": "ipython",
    "version": 3
   },
   "file_extension": ".py",
   "mimetype": "text/x-python",
   "name": "python",
   "nbconvert_exporter": "python",
   "pygments_lexer": "ipython3",
   "version": "3.11.0"
  }
 },
 "nbformat": 4,
 "nbformat_minor": 5
}
